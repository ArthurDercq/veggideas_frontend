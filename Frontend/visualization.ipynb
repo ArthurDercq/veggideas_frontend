{
 "cells": [
  {
   "cell_type": "code",
   "execution_count": null,
   "metadata": {},
   "outputs": [],
   "source": [
    "st.data_editor(\n",
    "    df,\n",
    "    column_config={\n",
    "        \"Ingredients\": st.column_config.ListColumn(\n",
    "            \"Ingredients\",\n",
    "            width=\"medium\",\n",
    "        ),\n",
    "    },\n",
    "    hide_index=True,\n",
    ")\n",
    "\n",
    "st.data_editor(\n",
    "    df,\n",
    "    column_config={\n",
    "        \"Recipe URL\": st.column_config.LinkColumn(\n",
    "            \"Trending apps\",\n",
    "            width=\"medium\",\n",
    "            validate=\"^https://[a-z]+\\.streamlit\\.app$\",\n",
    "            max_chars=100,\n",
    "        )\n",
    "    },\n",
    "    hide_index=True,\n",
    ")\n",
    "\n",
    "\n",
    "st.data_editor(\n",
    "    df,\n",
    "    column_config={\n",
    "        \"Recipe Name\": st.column_config.Column(\n",
    "            \"Recipe Name\",\n",
    "            width=\"medium\",\n",
    "            required=True,\n",
    "        )\n",
    "    },\n",
    "    hide_index=True,\n",
    "    num_rows=\"dynamic\",\n",
    ")"
   ]
  }
 ],
 "metadata": {
  "kernelspec": {
   "display_name": "veggideas_frontend",
   "language": "python",
   "name": "python3"
  },
  "language_info": {
   "codemirror_mode": {
    "name": "ipython",
    "version": 3
   },
   "file_extension": ".py",
   "mimetype": "text/x-python",
   "name": "python",
   "nbconvert_exporter": "python",
   "pygments_lexer": "ipython3",
   "version": "3.10.6"
  },
  "orig_nbformat": 4
 },
 "nbformat": 4,
 "nbformat_minor": 2
}
